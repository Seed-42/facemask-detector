{
 "cells": [
  {
   "cell_type": "code",
   "execution_count": 33,
   "id": "b50895e7",
   "metadata": {},
   "outputs": [],
   "source": [
    "import os\n",
    "from tqdm.notebook import tqdm\n",
    "from glob import glob\n",
    "from time import time\n",
    "from random import shuffle\n",
    "from shutil import copy\n",
    "\n",
    "dataset_path = \"../Data/Images/\"\n",
    "train_path = \"../Data/Train/\"\n",
    "test_path = \"../Data/Test/\"\n",
    "\n",
    "if not os.path.exists(train_path):\n",
    "    os.mkdir(train_path)\n",
    "    \n",
    "if not os.path.exists(test_path):\n",
    "    os.mkdir(test_path)\n",
    "\n",
    "import warnings\n",
    "warnings.filterwarnings(\"ignore\")"
   ]
  },
  {
   "cell_type": "code",
   "execution_count": 27,
   "id": "e68c0723",
   "metadata": {},
   "outputs": [
    {
     "data": {
      "application/vnd.jupyter.widget-view+json": {
       "model_id": "b389ab3b579d4c7d91de80ad5336f10e",
       "version_major": 2,
       "version_minor": 0
      },
      "text/plain": [
       "  0%|          | 0/146 [00:00<?, ?it/s]"
      ]
     },
     "metadata": {},
     "output_type": "display_data"
    },
    {
     "name": "stdout",
     "output_type": "stream",
     "text": [
      "operation took 0.02000737190246582s \n",
      "total number of images = 146\n"
     ]
    }
   ],
   "source": [
    "count = 0 \n",
    "start_time = time()\n",
    "filename_list = []\n",
    "\n",
    "for filename in tqdm(glob(f\"{dataset_path}/*.jpg\")):\n",
    "    count += 1 \n",
    "    filename_list.append(filename)\n",
    "\n",
    "print(f\"operation took {time() - start_time}s \")\n",
    "print(f\"total number of images = {count}\")\n",
    "\n",
    "shuffle(filename_list, lambda: 0.42)"
   ]
  },
  {
   "cell_type": "code",
   "execution_count": 28,
   "id": "3de5b877",
   "metadata": {},
   "outputs": [
    {
     "name": "stdout",
     "output_type": "stream",
     "text": [
      "Number of images in the train set = 102\n",
      "Number of images in the test set = 44\n"
     ]
    }
   ],
   "source": [
    "split_factor = round(0.3 * len(filename_list))\n",
    "test_filenames = filename_list[:split_factor]\n",
    "train_filenames = filename_list[split_factor:]\n",
    "\n",
    "print(f\"Number of images in the train set = {len(train_filenames)}\\nNumber of images in the test set = {len(test_filenames)}\")"
   ]
  },
  {
   "cell_type": "code",
   "execution_count": 44,
   "id": "54fc6712",
   "metadata": {
    "scrolled": true
   },
   "outputs": [],
   "source": [
    "def transfer_files(datastet, train=True, cleanup=False):\n",
    "    \n",
    "    target_dir = train_path if train else test_path\n",
    "    \n",
    "    for file in tqdm(datastet):\n",
    "        \n",
    "        image_filename = os.path.basename(file)\n",
    "        xml_filename = image_filename[:-4] + \".xml\"\n",
    "        \n",
    "        copy(file, target_dir + image_filename)\n",
    "        copy(dataset_path + xml_filename, target_dir + xml_filename)\n",
    "        \n",
    "        if cleanup:\n",
    "            os.remove(file)\n",
    "            os.remove(dataset_path + xml_filename)\n",
    "            \n",
    "        "
   ]
  },
  {
   "cell_type": "code",
   "execution_count": 45,
   "id": "09801786",
   "metadata": {},
   "outputs": [
    {
     "data": {
      "application/vnd.jupyter.widget-view+json": {
       "model_id": "c7133fe82041418a8ad9f94bdea86e82",
       "version_major": 2,
       "version_minor": 0
      },
      "text/plain": [
       "  0%|          | 0/44 [00:00<?, ?it/s]"
      ]
     },
     "metadata": {},
     "output_type": "display_data"
    }
   ],
   "source": [
    "transfer_files(test_filenames, train=False, cleanup=False)"
   ]
  },
  {
   "cell_type": "code",
   "execution_count": 46,
   "id": "3436efd5",
   "metadata": {},
   "outputs": [
    {
     "data": {
      "application/vnd.jupyter.widget-view+json": {
       "model_id": "19b08a68b22846a698516aaf91e0de7e",
       "version_major": 2,
       "version_minor": 0
      },
      "text/plain": [
       "  0%|          | 0/102 [00:00<?, ?it/s]"
      ]
     },
     "metadata": {},
     "output_type": "display_data"
    }
   ],
   "source": [
    "transfer_files(train_filenames, train=True, cleanup=False)"
   ]
  }
 ],
 "metadata": {
  "kernelspec": {
   "display_name": "Python 3 (ipykernel)",
   "language": "python",
   "name": "python3"
  },
  "language_info": {
   "codemirror_mode": {
    "name": "ipython",
    "version": 3
   },
   "file_extension": ".py",
   "mimetype": "text/x-python",
   "name": "python",
   "nbconvert_exporter": "python",
   "pygments_lexer": "ipython3",
   "version": "3.9.6"
  }
 },
 "nbformat": 4,
 "nbformat_minor": 5
}
